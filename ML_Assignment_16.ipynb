{
 "cells": [
  {
   "cell_type": "markdown",
   "id": "45d3dcd4-41f2-4ca8-b523-63afd8ac43c2",
   "metadata": {},
   "source": [
    "<h4>1. In a linear equation, what is the difference between a dependent variable and an independent\n",
    "variable?"
   ]
  },
  {
   "cell_type": "markdown",
   "id": "aa03d274-c4a1-472b-8e1b-2ecf328b9d73",
   "metadata": {},
   "source": [
    "independent variable is the input variable, while dependent variable is the target/output variable"
   ]
  },
  {
   "cell_type": "markdown",
   "id": "715aabd3-8178-495e-a900-a082f461f379",
   "metadata": {},
   "source": [
    "<h4>2. What is the concept of simple linear regression? Give a specific example."
   ]
  },
  {
   "cell_type": "markdown",
   "id": "b3706c97-43eb-42d0-be64-1c006f138e33",
   "metadata": {},
   "source": [
    "Simple linear regression has a single independent feature. It works by reducing the sum of squared errors between target and prediction"
   ]
  },
  {
   "cell_type": "markdown",
   "id": "2bfc2af1-ad2c-437a-a105-1af300a7476e",
   "metadata": {},
   "source": [
    "<h4>3. In a linear regression, define the slope."
   ]
  },
  {
   "cell_type": "markdown",
   "id": "fe263d10-fa4d-4db6-9464-d9ed985f9a60",
   "metadata": {},
   "source": [
    "Slope is the angle by which a simple linear regression line can rotate. It is the coefficient of the independent variable."
   ]
  },
  {
   "cell_type": "markdown",
   "id": "6245d3f5-1512-462e-9a7b-f61e7d827cb5",
   "metadata": {},
   "source": [
    "<h4>4. Determine the graph&#39;s slope, where the lower point on the line is represented as (3, 2) and the\n",
    "higher point is represented as (2, 2)."
   ]
  },
  {
   "cell_type": "markdown",
   "id": "9f0fbe93-4b88-422f-8283-47eaee5babc9",
   "metadata": {},
   "source": [
    "0"
   ]
  },
  {
   "cell_type": "markdown",
   "id": "91716f09-89bb-4a52-be9c-9dfef4fc5fe7",
   "metadata": {},
   "source": [
    "<h4>5. In linear regression, what are the conditions for a positive slope?"
   ]
  },
  {
   "cell_type": "markdown",
   "id": "ebd4992f-2768-4e63-b7f6-a457aab0c4df",
   "metadata": {},
   "source": [
    "Positive correlation between input and target variable"
   ]
  },
  {
   "cell_type": "markdown",
   "id": "5ef3ab5c-3e9b-4d6b-9a49-adc22882bd29",
   "metadata": {},
   "source": [
    "<h4>6. In linear regression, what are the conditions for a negative slope?"
   ]
  },
  {
   "cell_type": "markdown",
   "id": "34314e79-43d2-4cb5-b395-f391f6786e8d",
   "metadata": {},
   "source": [
    "Negative correlation between input and target variable"
   ]
  },
  {
   "cell_type": "markdown",
   "id": "52352ceb-0d27-4bd3-8d0b-faec4d476550",
   "metadata": {},
   "source": [
    "<h4>7. What is multiple linear regression and how does it work?"
   ]
  },
  {
   "cell_type": "markdown",
   "id": "6627a187-cf26-4aca-91c9-43aca5331441",
   "metadata": {},
   "source": [
    "Multiple linear regression has more than 1 independent variables. It works by reducing the sum of squared errors between target and prediction"
   ]
  },
  {
   "cell_type": "markdown",
   "id": "bc5a955e-9afa-4d17-8c1b-2cae30c8df42",
   "metadata": {},
   "source": [
    "<h4>8. In multiple linear regression, define the number of squares due to error."
   ]
  },
  {
   "cell_type": "markdown",
   "id": "3be38829-8857-4e9c-b1e3-ceff3248b664",
   "metadata": {},
   "source": [
    "SSE is the different between prediction and target"
   ]
  },
  {
   "cell_type": "markdown",
   "id": "bea30ca1-6695-495e-8e5a-cb99c39c1f60",
   "metadata": {},
   "source": [
    "<h4>9. In multiple linear regression, define the number of squares due to regression."
   ]
  },
  {
   "cell_type": "markdown",
   "id": "0fa6ff9d-9810-4834-8d4e-843eb254fda4",
   "metadata": {},
   "source": [
    "The regression sum of squares is used to denote the relationship between the modeled data and a regression model."
   ]
  },
  {
   "cell_type": "markdown",
   "id": "87c9f973-d0af-4ce0-95b2-a71b1230f76e",
   "metadata": {},
   "source": [
    "<h4>10. In a regression equation, what is multicollinearity?"
   ]
  },
  {
   "cell_type": "markdown",
   "id": "65aa0c27-63b5-4be3-8840-749d7012047c",
   "metadata": {},
   "source": [
    "Multicollinearity exists when the input features are correlated with each other"
   ]
  },
  {
   "cell_type": "markdown",
   "id": "06397107-4046-47e0-8b5c-def3a9cada40",
   "metadata": {},
   "source": [
    "<h4>11. What is heteroskedasticity, and what does it mean?"
   ]
  },
  {
   "cell_type": "markdown",
   "id": "f91a0b87-6432-4f3d-a095-086635220e58",
   "metadata": {},
   "source": [
    "Heteroskedasticity occurs when the variance in the residuals is not constant for all fitted values"
   ]
  },
  {
   "cell_type": "markdown",
   "id": "fe982685-d234-4c5a-8f7f-6c04a7017fd3",
   "metadata": {},
   "source": [
    "<h4>12. Describe the concept of ridge regression."
   ]
  },
  {
   "cell_type": "markdown",
   "id": "a7123529-677e-4839-a96f-1a3670ba287a",
   "metadata": {},
   "source": [
    "Ridge regression implements L2-regularization which shrinks the coefficients of irrelevant features close to 0 but not 0"
   ]
  },
  {
   "cell_type": "markdown",
   "id": "e7654720-813a-4851-85ab-d152442a239d",
   "metadata": {},
   "source": [
    "<h4>13. Describe the concept of lasso regression."
   ]
  },
  {
   "cell_type": "markdown",
   "id": "eaab7200-b37c-43d0-a56f-4e6180c556e4",
   "metadata": {},
   "source": [
    "Lasso regression implements L1-regularization which shrinks the coefficients of irrelevant features to 0. Hence, it can be used for feature selection"
   ]
  },
  {
   "cell_type": "markdown",
   "id": "6e9a7176-8a89-4b3e-abea-f4bcf2dd51a2",
   "metadata": {},
   "source": [
    "<h4>14. What is polynomial regression and how does it work?"
   ]
  },
  {
   "cell_type": "markdown",
   "id": "b50d28e0-c0f6-4ca1-ab66-1e8529b13153",
   "metadata": {},
   "source": [
    "Polynomial regression is a non linear variant of linear regression which fits linear regression to data by adding polynomial features to the input data"
   ]
  },
  {
   "cell_type": "markdown",
   "id": "f1fea6d5-b51a-4318-be15-cbb39afeeafb",
   "metadata": {},
   "source": [
    "<h4>16. Describe how logistic regression works."
   ]
  },
  {
   "cell_type": "markdown",
   "id": "46744502-8f34-4a33-a1bc-3e50bf50a00f",
   "metadata": {},
   "source": [
    "Logistic regression passes the output of linear regression through a sigmoid function to return probability score between 0 to 1"
   ]
  }
 ],
 "metadata": {
  "kernelspec": {
   "display_name": "Python 3 (ipykernel)",
   "language": "python",
   "name": "python3"
  },
  "language_info": {
   "codemirror_mode": {
    "name": "ipython",
    "version": 3
   },
   "file_extension": ".py",
   "mimetype": "text/x-python",
   "name": "python",
   "nbconvert_exporter": "python",
   "pygments_lexer": "ipython3",
   "version": "3.9.13"
  }
 },
 "nbformat": 4,
 "nbformat_minor": 5
}
