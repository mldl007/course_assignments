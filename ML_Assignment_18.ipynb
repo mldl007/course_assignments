{
 "cells": [
  {
   "cell_type": "markdown",
   "id": "6a8547ce-adbb-41fb-abcc-a11f78de6c8b",
   "metadata": {},
   "source": [
    "<h4>1. What is the difference between supervised and unsupervised learning? Give some examples to\n",
    "illustrate your point."
   ]
  },
  {
   "cell_type": "markdown",
   "id": "3f442ea3-6dc3-4b61-8cd9-0cac6ae464cb",
   "metadata": {},
   "source": [
    "In supervised learning the data has target labels for the model to learn patterns between input features and targets. While, in unsupervised learning the data doesn't have target labels. An unsupervised learning model finds clusters, anomalies and frequent item sets from unlabelled data/."
   ]
  },
  {
   "cell_type": "markdown",
   "id": "358f2a01-e8e2-4430-b8bc-c31b182bd48e",
   "metadata": {},
   "source": [
    "<h4>2. Mention a few unsupervised learning applications."
   ]
  },
  {
   "cell_type": "markdown",
   "id": "fe6c6da7-9a50-48a5-8eb5-0e5b446a16ad",
   "metadata": {},
   "source": [
    "Anomaliy detection, novelty detection, market basket analysis, clustering"
   ]
  },
  {
   "cell_type": "markdown",
   "id": "f5264f14-bca4-45b8-8d01-b8cd0010b4b6",
   "metadata": {},
   "source": [
    "<h4>3. What are the three main types of clustering methods? Briefly describe the characteristics of each."
   ]
  },
  {
   "cell_type": "markdown",
   "id": "7364d2af-9083-485a-803b-f41b827b84ce",
   "metadata": {},
   "source": [
    "Centroid-based Clustering, Density-based Clustering, Hierarchical Clustering."
   ]
  },
  {
   "cell_type": "markdown",
   "id": "5943c02b-d58b-4389-b591-4810cce0674a",
   "metadata": {},
   "source": [
    "<h4>4. Explain how the k-means algorithm determines the consistency of clustering."
   ]
  },
  {
   "cell_type": "markdown",
   "id": "0bcb991b-0467-4a8e-ac9e-366faf92253c",
   "metadata": {},
   "source": [
    "K-means algorithm uses random seed to maintain consistency to identify the initial centroids."
   ]
  },
  {
   "cell_type": "markdown",
   "id": "d33e6bec-d62c-4144-be00-5ff57c40ef60",
   "metadata": {},
   "source": [
    "<h4>6. What is a dendrogram, and how does it work? Explain how to do it."
   ]
  },
  {
   "cell_type": "markdown",
   "id": "8ceeddaf-7964-4f2e-9779-f36057ced81d",
   "metadata": {},
   "source": [
    "Dendogram is a cluster plot made using agglomerative clustering. The distance between the points are calculated and the dendogram is plotted incrementally."
   ]
  },
  {
   "cell_type": "markdown",
   "id": "cf86bccd-0fce-492b-86cf-0c7352b50831",
   "metadata": {},
   "source": [
    "<h4>7. What exactly is SSE? What role does it play in the k-means algorithm?"
   ]
  },
  {
   "cell_type": "markdown",
   "id": "694164eb-7268-456e-a93d-b52edaecf450",
   "metadata": {},
   "source": [
    "Sum of squared errors (SSE) is a measure to identify the distance of a sample from its entroid. Higher SSE means samples are far from their centroids."
   ]
  },
  {
   "cell_type": "markdown",
   "id": "cbb4405e-6e20-4e21-9611-b75056e4e7d5",
   "metadata": {},
   "source": [
    "<h4>8. With a step-by-step algorithm, explain the k-means procedure."
   ]
  },
  {
   "cell_type": "markdown",
   "id": "771986ee-9371-4b49-a6d5-bf6064cc54ef",
   "metadata": {},
   "source": [
    "1. Randomly select 'k' centroids from the data.\n",
    "2. find distance of each sample from the centroids and asssign the sample to closest centroid.\n",
    "3. recenter the centroids using mean of the samples in a cluster.\n",
    "4. continue the process until the SSE is low (determined using elbow method)"
   ]
  },
  {
   "cell_type": "markdown",
   "id": "121b17ea-be36-4e9c-9c95-ab854878515d",
   "metadata": {},
   "source": [
    "<h4>9. In the sense of hierarchical clustering, define the terms single link and complete link."
   ]
  },
  {
   "cell_type": "markdown",
   "id": "885025e9-82ce-4b14-886b-0f16f327a080",
   "metadata": {},
   "source": [
    "Single link - You link two clusters based on the minimum distance between 2 elements. Complete link - You link two clusters based on the max distance between 2 elements."
   ]
  },
  {
   "cell_type": "code",
   "execution_count": null,
   "id": "1760c075-95cc-4d40-9b3e-c50780d07eeb",
   "metadata": {},
   "outputs": [],
   "source": []
  }
 ],
 "metadata": {
  "kernelspec": {
   "display_name": "Python 3 (ipykernel)",
   "language": "python",
   "name": "python3"
  },
  "language_info": {
   "codemirror_mode": {
    "name": "ipython",
    "version": 3
   },
   "file_extension": ".py",
   "mimetype": "text/x-python",
   "name": "python",
   "nbconvert_exporter": "python",
   "pygments_lexer": "ipython3",
   "version": "3.9.13"
  }
 },
 "nbformat": 4,
 "nbformat_minor": 5
}
