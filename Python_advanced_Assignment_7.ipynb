{
 "cells": [
  {
   "cell_type": "markdown",
   "id": "f4661b24-cc65-4c17-b359-0ca84530d919",
   "metadata": {},
   "source": [
    "<h4>Q1. What is the purpose of the try statement?"
   ]
  },
  {
   "cell_type": "markdown",
   "id": "6b7aeefe-ad8c-4f8b-a4df-e604dc336639",
   "metadata": {},
   "source": [
    "Try statement is uded to handle exceptions. A piece of code embedded in try block is monitored for any exceptions and prevents the application from unexpected exit/crash"
   ]
  },
  {
   "cell_type": "markdown",
   "id": "6cebb25e-fe95-4f3f-9e9a-5fe1d7a336f0",
   "metadata": {},
   "source": [
    "<h4>Q2. What are the two most popular try statement variations?"
   ]
  },
  {
   "cell_type": "markdown",
   "id": "44516ce8-9470-4563-a7d6-1a8d1b244443",
   "metadata": {},
   "source": [
    "The two popular variations of try statement is try, except and try else."
   ]
  },
  {
   "cell_type": "markdown",
   "id": "dc6a2124-ff3f-4d35-936e-076b021db21e",
   "metadata": {},
   "source": [
    "<h4>Q3. What is the purpose of the raise statement?"
   ]
  },
  {
   "cell_type": "markdown",
   "id": "978ee2cc-bfd5-4257-a29f-fadb589edda7",
   "metadata": {},
   "source": [
    "raise statement is used to manually raise an exception by using \"raise Exception Name\""
   ]
  },
  {
   "cell_type": "markdown",
   "id": "a21f1c77-75c7-4459-bae6-3a4f068b0688",
   "metadata": {},
   "source": [
    "<h4>Q4. What does the assert statement do, and what other statement is it like?"
   ]
  },
  {
   "cell_type": "markdown",
   "id": "cfd01723-a76f-48fa-83fb-eb117a96fd89",
   "metadata": {},
   "source": [
    "Assert statement is used to assert the result of an equality. It is used while unit testing using Pytest"
   ]
  },
  {
   "cell_type": "markdown",
   "id": "28189492-fb08-4661-9c80-71aaefefcba2",
   "metadata": {},
   "source": [
    "<h4>Q5. What is the purpose of the with/as argument, and what other statement is it like?"
   ]
  },
  {
   "cell_type": "markdown",
   "id": "cd234a42-5c03-4967-855e-56bb56b3d761",
   "metadata": {},
   "source": [
    "with/as is called context manager that sets up a context and tears down once execution is completed. for example, while reading a file the context manager opens the file, reads it and automatically closes it."
   ]
  }
 ],
 "metadata": {
  "kernelspec": {
   "display_name": "Python 3 (ipykernel)",
   "language": "python",
   "name": "python3"
  },
  "language_info": {
   "codemirror_mode": {
    "name": "ipython",
    "version": 3
   },
   "file_extension": ".py",
   "mimetype": "text/x-python",
   "name": "python",
   "nbconvert_exporter": "python",
   "pygments_lexer": "ipython3",
   "version": "3.9.13"
  }
 },
 "nbformat": 4,
 "nbformat_minor": 5
}
