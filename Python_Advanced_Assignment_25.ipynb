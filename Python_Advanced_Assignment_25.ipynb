{
 "cells": [
  {
   "cell_type": "markdown",
   "id": "3967e130-6307-4022-95c0-017947adc454",
   "metadata": {},
   "source": [
    "<h4>Q1. What is the distinction between a numpy array and a pandas data frame? Is there a way to convert between the two if there is?"
   ]
  },
  {
   "cell_type": "markdown",
   "id": "0b62ad8d-0e7a-4693-9b98-7a66e1a7677c",
   "metadata": {},
   "source": [
    "numpy array doesnt have index and column names like data frame. We can convert numpy array to data frame using pd.DataFrame. We can convert data frame to array using df.values"
   ]
  },
  {
   "cell_type": "markdown",
   "id": "35777f66-9ad0-475c-9217-4faa5029f597",
   "metadata": {},
   "source": [
    "<h4>Q2. What can go wrong when an user enters in a stock-ticker symbol, and how do you handle it?"
   ]
  },
  {
   "cell_type": "markdown",
   "id": "8dffee1c-3a65-4276-b1e4-a818270a6284",
   "metadata": {},
   "source": [
    "The stock ticker symbol may not be present in the dictionary or data frame."
   ]
  },
  {
   "cell_type": "markdown",
   "id": "f2cc3bbd-589a-4784-8a25-08c4f064d953",
   "metadata": {},
   "source": [
    "<h4>Q3. Identify some of the plotting techniques that are used to produce a stock-market chart."
   ]
  },
  {
   "cell_type": "markdown",
   "id": "9cd5467f-5ae8-4faa-8d1f-b45e325ac322",
   "metadata": {},
   "source": [
    "KDE to identify distribution and line chart to identify trend and seasonality"
   ]
  },
  {
   "cell_type": "markdown",
   "id": "c05dc985-1f48-4ff9-b701-c5db85c1678c",
   "metadata": {},
   "source": [
    "<h4>Q4. Why is it essential to print a legend on a stock market chart?"
   ]
  },
  {
   "cell_type": "markdown",
   "id": "8e4fe9a7-4705-40e0-8474-a3daa751b46d",
   "metadata": {},
   "source": [
    "legend enables the user to identify the ticker pertaining to the specific line plot"
   ]
  },
  {
   "cell_type": "markdown",
   "id": "bc7793cd-08e2-47a9-bc34-95766d2f0f6e",
   "metadata": {},
   "source": [
    "<h4>Q5. What is the best way to limit the length of a pandas data frame to less than a year?"
   ]
  },
  {
   "cell_type": "markdown",
   "id": "6848d438-006c-425d-a16e-3b48caad00a3",
   "metadata": {},
   "source": [
    "by specifying nrows argument in read_csv"
   ]
  },
  {
   "cell_type": "markdown",
   "id": "4eb84715-e423-4beb-96ac-ad31006abcae",
   "metadata": {},
   "source": [
    "<h4>Q6. What is the definition of a 180-day moving average?"
   ]
  },
  {
   "cell_type": "markdown",
   "id": "21f5f543-0647-41d8-a07c-e4d4df73eb3b",
   "metadata": {},
   "source": [
    "The average of trailing 180 values in a time series "
   ]
  },
  {
   "cell_type": "code",
   "execution_count": null,
   "id": "636f20b3-3cfc-41e6-94ed-15f80c1e4ade",
   "metadata": {},
   "outputs": [],
   "source": []
  }
 ],
 "metadata": {
  "kernelspec": {
   "display_name": "Python 3 (ipykernel)",
   "language": "python",
   "name": "python3"
  },
  "language_info": {
   "codemirror_mode": {
    "name": "ipython",
    "version": 3
   },
   "file_extension": ".py",
   "mimetype": "text/x-python",
   "name": "python",
   "nbconvert_exporter": "python",
   "pygments_lexer": "ipython3",
   "version": "3.9.13"
  }
 },
 "nbformat": 4,
 "nbformat_minor": 5
}
