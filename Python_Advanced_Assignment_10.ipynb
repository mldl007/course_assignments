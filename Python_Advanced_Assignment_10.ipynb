{
 "cells": [
  {
   "cell_type": "markdown",
   "id": "56cfb47a-0d20-49c2-9fee-7884cdd98042",
   "metadata": {},
   "source": [
    "Q1. What is the difference between __getattr__ and __getattribute__?\n",
    "\n",
    "Q2. What is the difference between properties and descriptors?\n",
    "\n",
    "Q3. What are the key differences in functionality between __getattr__ and __getattribute__, as well as\n",
    "properties and descriptors?"
   ]
  },
  {
   "cell_type": "markdown",
   "id": "da9b0649-f91f-4230-a1fc-192643d12409",
   "metadata": {},
   "source": [
    "<h4>Q1. What is the difference between __getattr__ and __getattribute__?"
   ]
  },
  {
   "cell_type": "markdown",
   "id": "206adc37-7f12-42a3-8c01-930b84f3df25",
   "metadata": {},
   "source": [
    "getattribute: Is used to retrieve an attribute from an instance. It captures every attempt to access an instance attribute by using dot notation or getattr() built-in function.\n",
    "getattr: Is executed as the last resource when attribute is not found in an object. You can choose to return a default value or to raise AttributeError."
   ]
  },
  {
   "cell_type": "markdown",
   "id": "b5ab0526-82c8-4801-974d-349faa75685a",
   "metadata": {},
   "source": [
    "<h4>Q2. What is the difference between properties and descriptors?"
   ]
  },
  {
   "cell_type": "markdown",
   "id": "da73f324-dc50-4c83-bd35-aab600c44554",
   "metadata": {},
   "source": [
    "descriptors are a low-level mechanism that lets you hook into an object's attributes being accessed. Properties are a high-level application of this; that is, properties are implemented using descriptors"
   ]
  },
  {
   "cell_type": "markdown",
   "id": "d73a6dae-3064-4b0a-9fa7-fda40ebba9e1",
   "metadata": {},
   "source": [
    "<h4>Q3. What are the key differences in functionality between __getattr__ and __getattribute__, as well as\n",
    "properties and descriptors?"
   ]
  },
  {
   "cell_type": "markdown",
   "id": "4f30bf97-1880-4265-b831-3a7f694f288e",
   "metadata": {},
   "source": [
    "getattribute: Is used to retrieve an attribute from an instance. It captures every attempt to access an instance attribute by using dot notation or getattr() built-in function. getattr: Is executed as the last resource when attribute is not found in an object. You can choose to return a default value or to raise AttributeError.\n",
    "descriptors are a low-level mechanism that lets you hook into an object's attributes being accessed. Properties are a high-level application of this; that is, properties are implemented using descriptors"
   ]
  }
 ],
 "metadata": {
  "kernelspec": {
   "display_name": "Python 3 (ipykernel)",
   "language": "python",
   "name": "python3"
  },
  "language_info": {
   "codemirror_mode": {
    "name": "ipython",
    "version": 3
   },
   "file_extension": ".py",
   "mimetype": "text/x-python",
   "name": "python",
   "nbconvert_exporter": "python",
   "pygments_lexer": "ipython3",
   "version": "3.9.13"
  }
 },
 "nbformat": 4,
 "nbformat_minor": 5
}
